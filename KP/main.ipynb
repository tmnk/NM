{
 "cells": [
  {
   "cell_type": "code",
   "execution_count": 4,
   "metadata": {
    "collapsed": false
   },
   "outputs": [],
   "source": [
    "import matplotlib.pyplot as plt\n",
    "A1,A2,A3 = 1.6,0.5,10.\n",
    "h = 0.2\n",
    "y0 = 2.\n",
    "x0 = 0\n",
    "x12,y12,yk,xk,dtyk,tyk = [],[],[],[],[],[]\n",
    "gy = {}"
   ]
  },
  {
   "cell_type": "code",
   "execution_count": 2,
   "metadata": {
    "collapsed": false
   },
   "outputs": [],
   "source": [
    "def f(t,y,yl):\n",
    "    return A1*y*(1. - yl/A3)\n",
    "def CRy12(x, y, yl):\n",
    "    return y + h/2 * f(x,y, yl)\n",
    "def CRyk(x, y, yl):\n",
    "#     print(str(y) + \" + \" str(h) + \"*\" +  str(A1) + '*' + str(y) + \"(1 - \" + str(yl) + \"/\" + str(A3) + \")\")\n",
    "    pr = [yl,'+',h,'*',A1,'*',y,\"*(1 - \", yl, '/',A3,')']\n",
    "#     print(f(x,y, yl))\n",
    "    return yl + (h * f(x,y, yl))\n",
    "def DTyk(xk,yk,yl):\n",
    "    return h/2*f(xk,yk,yl)\n",
    "def Txk(xk):\n",
    "    return xk + h/2 - A2\n",
    "\n",
    "def Tyk(xk,yk,yl):\n",
    "    return h/2*f(xk,yk,yl)\n",
    "def DTyk(x,y,dty,ty):\n",
    "    return h*f(x+h/2,y+dty,ty)"
   ]
  },
  {
   "cell_type": "code",
   "execution_count": 45,
   "metadata": {
    "collapsed": false
   },
   "outputs": [],
   "source": [
    "def createY(yl):\n",
    "    gy = {}\n",
    "    b = - A2 #A2 - запаздывающий коефицент\n",
    "    while b <= 0:\n",
    "        gy[round(b,3)] = yl\n",
    "        b += h/2\n",
    "def app(x):\n",
    "    print(x)\n",
    "    x12 = x + h/2\n",
    "    gy[round(x12, 3)] = CRy12(x, gy[x], gy[round(x-A2,3)])\n",
    "    gy[round(x12 + h/2,3)] = CRyk(x12, gy[x12],  gy[round(x12-A2,3)])\n",
    "    \n",
    "    print(x12, gy[round(x12, 3)], gy[round(x12 + h/2,3)])\n",
    "#     dty = h/2*f(x,gy[x],gy[round(x-A2,3)])\n",
    "    ty = gy[round(x12-A2,3)]\n",
    "    print(h*f(x12,gy[x12], ty))\n",
    "    return gy[round(x12, 3)], gy[round(x12 + h/2,3)]"
   ]
  },
  {
   "cell_type": "code",
   "execution_count": 23,
   "metadata": {
    "collapsed": false
   },
   "outputs": [
    {
     "name": "stdout",
     "output_type": "stream",
     "text": [
      "0 2.0\n",
      "---------------\n",
      "0.2 2.5775360000000003\n",
      "---------------\n",
      "0.4 3.3218459156480007\n",
      "---------------\n",
      "0.6000000000000001 4.281088717017843\n",
      "---------------\n",
      "0.8 5.423918428971968\n",
      "---------------\n",
      "0 2.0\n",
      "---------------\n",
      "0.2 2.5775360000000003\n",
      "---------------\n",
      "0.4 3.3218459156480007\n",
      "---------------\n",
      "0.6000000000000001 4.281088717017843\n",
      "---------------\n",
      "0.8 5.423918428971968\n",
      "---------------\n",
      "0 2.0\n",
      "---------------\n",
      "0.2 2.5921851239669422\n",
      "---------------\n",
      "0.4 3.359711858457756\n",
      "---------------\n",
      "0.6000000000000001 4.354497550154762\n",
      "---------------\n",
      "0.8 5.554939746431186\n",
      "---------------\n"
     ]
    },
    {
     "data": {
      "image/png": "[encoded data removed]",
      "text/plain": [
       "<matplotlib.figure.Figure at 0x1b266fd6c50>"
      ]
     },
     "metadata": {},
     "output_type": "display_data"
    }
   ],
   "source": [
    "def tr(x): #!!!!!!!!\n",
    "    return int(x/(h/2) + 5.)\n",
    "class Array:\n",
    "    def __init__(self):\n",
    "        self.arr = [0 for i in range(100)]\n",
    "        b = - A2 #A2 - запаздывающий коефицент\n",
    "        while b <= 0:\n",
    "            self.arr[tr(round(b,3))] = y0\n",
    "            b += h/2\n",
    "    def i(self, t):\n",
    "        return self.arr[int(tr(round(t,3)))]    \n",
    "    def add(self, t, data):\n",
    "        self.arr[tr(round(t,3))] = data\n",
    "\n",
    "def CRyk(yk, y12, yd):\n",
    "    return yk + h * A1 * y12 * (1 - yd / A3)\n",
    "x = x0\n",
    "A1,A2,A3 = 1.6,0.5,10.\n",
    "for j in range(3):\n",
    "    a = Array()\n",
    "    x = x0\n",
    "    for i in range(5):\n",
    "        x12 = x + h / 2 \n",
    "        a.add(x12, CRy12(x, a.i(x), a.i(x-A2)))\n",
    "        a.add(x12 + h/2, CRyk(a.i(x), a.i(x12), a.i(x12-A2)))\n",
    "    #     gy[round(x12 + h/2,3)] = CRyk(x12, gy[x12],  gy[round(x12-A2,3)])\n",
    "#         print(x12, a.i(x12), a.i(x12+h/2))\n",
    "        ty = a.i(x12-A2)\n",
    "        print(x,a.i(x))\n",
    "        x += h \n",
    "        print('---------------')\n",
    "    x = [h * i for i in range(5)]\n",
    "    y = [a.i(i) for i in x]\n",
    "    A3 += j\n",
    "    plt.plot(x,y)\n",
    "plt.show()"
   ]
  },
  {
   "cell_type": "code",
   "execution_count": 13,
   "metadata": {
    "collapsed": false
   },
   "outputs": [
    {
     "name": "stdout",
     "output_type": "stream",
     "text": [
      "[0.5775360000000002, 0.7443099156480002, 0.9592428013698421, 1.1428297119541244, 1.2906314081768704]\n"
     ]
    },
    {
     "data": {
      "image/png": "[encoded data removed]",
      "text/plain": [
       "<matplotlib.figure.Figure at 0x1b266c75940>"
      ]
     },
     "metadata": {},
     "output_type": "display_data"
    }
   ],
   "source": [
    "x = [h * i for i in range(5)]\n",
    "y = [a.i(i) for i in x]\n",
    "print(res)\n",
    "plt.plot(x,res)\n",
    "plt.plot(x,y)\n",
    "plt.show()"
   ]
  },
  {
   "cell_type": "code",
   "execution_count": 60,
   "metadata": {
    "collapsed": false
   },
   "outputs": [
    {
     "name": "stdout",
     "output_type": "stream",
     "text": [
      "0\n",
      "1\n",
      "2\n",
      "3\n",
      "4\n",
      "5\n"
     ]
    },
    {
     "data": {
      "text/plain": [
       "[2.0,\n",
       " 2.0,\n",
       " 2.0,\n",
       " 2.0,\n",
       " 2.0,\n",
       " 2.0,\n",
       " 0,\n",
       " 0,\n",
       " 0,\n",
       " 0,\n",
       " 0,\n",
       " 0,\n",
       " 0,\n",
       " 0,\n",
       " 0,\n",
       " 0,\n",
       " 0,\n",
       " 0,\n",
       " 0,\n",
       " 0,\n",
       " 0,\n",
       " 0,\n",
       " 0,\n",
       " 0,\n",
       " 0,\n",
       " 0,\n",
       " 0,\n",
       " 0,\n",
       " 0,\n",
       " 0,\n",
       " 0,\n",
       " 0,\n",
       " 0,\n",
       " 0,\n",
       " 0,\n",
       " 0,\n",
       " 0,\n",
       " 0,\n",
       " 0,\n",
       " 0,\n",
       " 0,\n",
       " 0,\n",
       " 0,\n",
       " 0,\n",
       " 0,\n",
       " 0,\n",
       " 0,\n",
       " 0,\n",
       " 0,\n",
       " 0,\n",
       " 0,\n",
       " 0,\n",
       " 0,\n",
       " 0,\n",
       " 0,\n",
       " 0,\n",
       " 0,\n",
       " 0,\n",
       " 0,\n",
       " 0,\n",
       " 0,\n",
       " 0,\n",
       " 0,\n",
       " 0,\n",
       " 0,\n",
       " 0,\n",
       " 0,\n",
       " 0,\n",
       " 0,\n",
       " 0,\n",
       " 0,\n",
       " 0,\n",
       " 0,\n",
       " 0,\n",
       " 0,\n",
       " 0,\n",
       " 0,\n",
       " 0,\n",
       " 0,\n",
       " 0,\n",
       " 0,\n",
       " 0,\n",
       " 0,\n",
       " 0,\n",
       " 0,\n",
       " 0,\n",
       " 0,\n",
       " 0,\n",
       " 0,\n",
       " 0,\n",
       " 0,\n",
       " 0,\n",
       " 0,\n",
       " 0,\n",
       " 0,\n",
       " 0,\n",
       " 0,\n",
       " 0,\n",
       " 0,\n",
       " 0]"
      ]
     },
     "execution_count": 60,
     "metadata": {},
     "output_type": "execute_result"
    }
   ],
   "source": [
    "def togy(x): #!!!!!!!!\n",
    "    return int(x/0.1 + 5.)\n",
    "gy = [0 for i in range(100)]\n",
    "b = - A2 #A2 - запаздывающий коефицент\n",
    "while b <= 0:\n",
    "    print(togy(round(b,3)))\n",
    "    gy[togy(round(b,3))] = y0\n",
    "    b += h/2\n",
    "gy"
   ]
  },
  {
   "cell_type": "code",
   "execution_count": 69,
   "metadata": {
    "collapsed": false
   },
   "outputs": [],
   "source": [
    "dty0 = DTyk(x0,y0,y0)\n",
    "dty1 = DTyk(x1,y1,y0)\n",
    "# dty1 = DTyk(x2,y2,y0)\n",
    "tx0 = Txk(x0) \n",
    "tx1 = Txk(x1) \n",
    "# dtx2 = DTxk(x2) \n",
    "ty0 = y0\n",
    "ty1 = y0\n",
    "ty2 = y0"
   ]
  },
  {
   "cell_type": "code",
   "execution_count": 75,
   "metadata": {
    "collapsed": false
   },
   "outputs": [
    {
     "data": {
      "text/plain": [
       "0.7443099156480002"
      ]
     },
     "execution_count": 75,
     "metadata": {},
     "output_type": "execute_result"
    }
   ],
   "source": [
    "h*f(x0+h/2,y0+dty0,ty0)\n",
    "DTyk(x1,y1,dty1,ty1)"
   ]
  },
  {
   "cell_type": "code",
   "execution_count": 71,
   "metadata": {
    "collapsed": false
   },
   "outputs": [
    {
     "data": {
      "text/plain": [
       "0.7443099156480002"
      ]
     },
     "execution_count": 71,
     "metadata": {},
     "output_type": "execute_result"
    }
   ],
   "source": [
    "h*f(x1+h/2,y1+dty1,ty1)"
   ]
  },
  {
   "cell_type": "code",
   "execution_count": 103,
   "metadata": {
    "collapsed": false
   },
   "outputs": [],
   "source": [
    "gy[0.2] = 2.3564387880000"
   ]
  },
  {
   "cell_type": "code",
   "execution_count": 84,
   "metadata": {
    "collapsed": false
   },
   "outputs": [],
   "source": [
    "def tr(x): #!!!!!!!!\n",
    "    return int(x/(h/2) + 5.)\n",
    "class Array:\n",
    "    def __init__(self):\n",
    "        self.arr = [0 for i in range(100)]\n",
    "        b = - A2 #A2 - запаздывающий коефицент\n",
    "        while b <= 0:\n",
    "            self.arr[tr(round(b,3))] = y0\n",
    "            b += h/2\n",
    "    def i(self, t):\n",
    "        return self.arr[int(tr(round(t,3)))]    \n",
    "    def add(self, t, data):\n",
    "        self.arr[tr(round(t,3))] = data"
   ]
  },
  {
   "cell_type": "code",
   "execution_count": 92,
   "metadata": {
    "collapsed": false
   },
   "outputs": [
    {
     "data": {
      "text/plain": [
       "2.44"
      ]
     },
     "execution_count": 92,
     "metadata": {},
     "output_type": "execute_result"
    }
   ],
   "source": [
    "a = Array()\n",
    "a.add(0.1, 2.44)\n",
    "a.i(0.1)"
   ]
  }
 ],
 "metadata": {
  "kernelspec": {
   "display_name": "Python 3",
   "language": "python",
   "name": "python3"
  },
  "language_info": {
   "codemirror_mode": {
    "name": "ipython",
    "version": 3
   },
   "file_extension": ".py",
   "mimetype": "text/x-python",
   "name": "python",
   "nbconvert_exporter": "python",
   "pygments_lexer": "ipython3",
   "version": "3.6.0"
  }
 },
 "nbformat": 4,
 "nbformat_minor": 2
}
